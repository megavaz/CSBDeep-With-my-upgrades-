{
 "cells": [
  {
   "cell_type": "markdown",
   "metadata": {},
   "source": [
    "<hr style=\"height:2px;\">\n",
    "\n",
    "# Demo: Apply trained CARE model for joint denoising and surface projection of *Drosophila melanogaster* wing\n",
    "\n",
    "This notebook demonstrates applying a CARE model for a denoising+projection task, assuming that training was already completed via [2_training.ipynb](2_training.ipynb).  \n",
    "The trained model is assumed to be located in the folder `models` with the name `my_model`.\n",
    "\n",
    "**Note:** The CARE model is here applied to an image that the model was also trained on.  \n",
    "Of course, in practice one would typically use it to restore images that the model hasn't seen during training.\n",
    "\n",
    "More documentation is available at http://csbdeep.bioimagecomputing.com/doc/."
   ]
  },
  {
   "cell_type": "code",
   "execution_count": null,
   "metadata": {},
   "outputs": [],
   "source": [
    "from __future__ import print_function, unicode_literals, absolute_import, division\n",
    "import numpy as np\n",
    "import matplotlib.pyplot as plt\n",
    "%matplotlib inline\n",
    "%config InlineBackend.figure_format = 'retina'\n",
    "\n",
    "from tifffile import imread\n",
    "from csbdeep.utils import Path, download_and_extract_zip_file, plot_some\n",
    "from csbdeep.io import save_tiff_imagej_compatible\n",
    "from csbdeep.models import ProjectionCARE"
   ]
  },
  {
   "cell_type": "markdown",
   "metadata": {},
   "source": [
    "<hr style=\"height:2px;\">\n",
    "\n",
    "# Download example data\n",
    "\n",
    "The example data (also for testing) should have been downloaded in [1_datagen.ipynb](1_datagen.ipynb).  \n",
    "Just in case, we will download it here again if it's not already present."
   ]
  },
  {
   "cell_type": "code",
   "execution_count": null,
   "metadata": {},
   "outputs": [],
   "source": [
    "download_and_extract_zip_file (\n",
    "    url       = 'http://csbdeep.bioimagecomputing.com/example_data/flywing.zip',\n",
    "    targetdir = 'data',\n",
    ")"
   ]
  },
  {
   "cell_type": "markdown",
   "metadata": {},
   "source": [
    "<hr style=\"height:2px;\">\n",
    "\n",
    "# Raw low-SNR 3D stack and associated high-SNR 2D surface projection\n",
    "\n",
    "Plot the image pair and define its image axes, which will be needed later for CARE prediction."
   ]
  },
  {
   "cell_type": "code",
   "execution_count": null,
   "metadata": {},
   "outputs": [],
   "source": [
    "y = imread('data/flywing/GT/session_7_P17.tif')\n",
    "x = imread('data/flywing/low_C3/session_7_P17.tif')\n",
    "\n",
    "axes = 'ZYX'\n",
    "print('source image size =', x.shape)\n",
    "print('source image axes =', axes)\n",
    "print('target image size =', y.shape)\n",
    "\n",
    "plt.figure(figsize=(16,10))\n",
    "plot_some(np.stack([x,np.broadcast_to(y,x.shape)]),\n",
    "          title_list=[['low-SNR stack (maximum projection)','high-SNR (surface extracted with PreMosa)']], \n",
    "          pmin=2,pmax=99.8);"
   ]
  },
  {
   "cell_type": "markdown",
   "metadata": {},
   "source": [
    "<hr style=\"height:2px;\">\n",
    "\n",
    "# CARE model\n",
    "\n",
    "Load trained model (located in base directory `models` with name `my_model`) from disk.  \n",
    "The configuration was saved during training and is automatically loaded when `ProjectionCARE` is initialized with `config=None`."
   ]
  },
  {
   "cell_type": "code",
   "execution_count": null,
   "metadata": {},
   "outputs": [],
   "source": [
    "model = ProjectionCARE(config=None, name='my_model', basedir='models')"
   ]
  },
  {
   "cell_type": "markdown",
   "metadata": {},
   "source": [
    "## Apply CARE network to raw image\n",
    "\n",
    "Predict the restored image (image will be successively split into smaller tiles if there are memory issues)."
   ]
  },
  {
   "cell_type": "code",
   "execution_count": null,
   "metadata": {},
   "outputs": [],
   "source": [
    "%%time\n",
    "restored = model.predict(x, axes)"
   ]
  },
  {
   "cell_type": "markdown",
   "metadata": {},
   "source": [
    "Alternatively, one can directly set `n_tiles` to avoid the time overhead from multiple retries in case of memory issues.\n",
    "\n",
    "**Note**: *Out of memory* problems during `model.predict` can also indicate that the GPU is used by another process. In particular, shut down the training notebook before running the prediction (you may need to restart this notebook)."
   ]
  },
  {
   "cell_type": "code",
   "execution_count": null,
   "metadata": {},
   "outputs": [],
   "source": [
    "%%time\n",
    "restored = model.predict(x, axes, n_tiles=(1,4,4))"
   ]
  },
  {
   "cell_type": "markdown",
   "metadata": {},
   "source": [
    "## Save restored image\n",
    "\n",
    "Save the restored image stack as a ImageJ-compatible TIFF image, i.e. the image can be opened in ImageJ/Fiji with correct axes semantics."
   ]
  },
  {
   "cell_type": "code",
   "execution_count": null,
   "metadata": {},
   "outputs": [],
   "source": [
    "Path('results').mkdir(exist_ok=True)\n",
    "axes_restored = axes.replace(model.proj_params.axis,'')\n",
    "save_tiff_imagej_compatible('results/%s_denoising+projection_example.tif' % model.name, restored, axes_restored)"
   ]
  },
  {
   "cell_type": "markdown",
   "metadata": {},
   "source": [
    "<hr style=\"height:2px;\">\n",
    "\n",
    "# Raw low/high-SNR pair and denoised+projected image via CARE network\n",
    "\n",
    "Plot the test stack pair and the predicted restored stack (middle)."
   ]
  },
  {
   "cell_type": "code",
   "execution_count": null,
   "metadata": {},
   "outputs": [],
   "source": [
    "plt.figure(figsize=(16,10))\n",
    "plot_some(np.stack([x,np.broadcast_to(restored,x.shape),np.broadcast_to(y,x.shape)]),\n",
    "          title_list=[['low-SNR stack (maximum projection)','CARE','high-SNR (surface extracted with PreMosa)']], \n",
    "          pmin=2,pmax=99.8);"
   ]
  }
 ],
 "metadata": {
  "kernelspec": {
   "display_name": "Python 3",
   "language": "python",
   "name": "python3"
  },
  "language_info": {
   "codemirror_mode": {
    "name": "ipython",
    "version": 3
   },
   "file_extension": ".py",
   "mimetype": "text/x-python",
   "name": "python",
   "nbconvert_exporter": "python",
   "pygments_lexer": "ipython3",
   "version": "3.6.4"
  }
 },
 "nbformat": 4,
 "nbformat_minor": 2
}
