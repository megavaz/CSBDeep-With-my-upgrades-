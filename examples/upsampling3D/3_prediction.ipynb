{
 "cells": [
  {
   "cell_type": "markdown",
   "metadata": {},
   "source": [
    "<hr style=\"height:2px;\">\n",
    "\n",
    "# Demo: Apply trained CARE model for combined denoising and upsamling of synthetic 3D data\n",
    "\n",
    "This notebook demonstrates applying a CARE model for a combined denoising and upsampling task, assuming that training was already completed via [2_training.ipynb](2_training.ipynb). The trained model is assumed to be located in the folder `models` with the name `my_model`.\n",
    "\n",
    "More documentation is available at http://csbdeep.bioimagecomputing.com/doc/."
   ]
  },
  {
   "cell_type": "code",
   "execution_count": null,
   "metadata": {},
   "outputs": [],
   "source": [
    "from __future__ import print_function, unicode_literals, absolute_import, division\n",
    "import numpy as np\n",
    "import matplotlib.pyplot as plt\n",
    "%matplotlib inline\n",
    "%config InlineBackend.figure_format = 'retina'\n",
    "\n",
    "from tifffile import imread\n",
    "from csbdeep.utils import Path, download_and_extract_zip_file, plot_some\n",
    "from csbdeep.io import save_tiff_imagej_compatible\n",
    "from csbdeep.models import UpsamplingCARE"
   ]
  },
  {
   "cell_type": "markdown",
   "metadata": {},
   "source": [
    "<hr style=\"height:2px;\">\n",
    "\n",
    "# Download example data\n",
    "\n",
    "The example data (also for testing) should have been downloaded in [1_datagen.ipynb](1_datagen.ipynb).  \n",
    "Just in case, we will download it here again if it's not already present."
   ]
  },
  {
   "cell_type": "code",
   "execution_count": null,
   "metadata": {},
   "outputs": [],
   "source": [
    "download_and_extract_zip_file (\n",
    "    url       = 'http://csbdeep.bioimagecomputing.com/example_data/synthetic_upsampling.zip',\n",
    "    targetdir = 'data',\n",
    ")"
   ]
  },
  {
   "cell_type": "markdown",
   "metadata": {},
   "source": [
    "<hr style=\"height:2px;\">\n",
    "\n",
    "# Raw 3D image stack with low axial resolution\n",
    "\n",
    "We plot XY and ZY slices of the stack and define the image axes and subsampling factor, which will be needed later for prediction."
   ]
  },
  {
   "cell_type": "code",
   "execution_count": null,
   "metadata": {},
   "outputs": [],
   "source": [
    "x = imread('data/synthetic_upsampling/test_stacks_sub_4/stack_low_sub_4_03.tif')\n",
    "axes = 'ZYX'\n",
    "subsample = 4\n",
    "print('image size       =', x.shape)\n",
    "print('image axes       =', axes)\n",
    "print('subsample factor =', subsample)\n",
    "\n",
    "plt.figure(figsize=(12,12))\n",
    "plt.imshow(x[20],cmap='magma')\n",
    "plt.title('XY slice')\n",
    "plt.axis('off')\n",
    "\n",
    "plt.figure(figsize=(12,12))\n",
    "plt.imshow(x[...,20],aspect=subsample,cmap='magma')\n",
    "plt.title('ZY slice')\n",
    "plt.axis('off')\n",
    "None;"
   ]
  },
  {
   "cell_type": "markdown",
   "metadata": {},
   "source": [
    "<hr style=\"height:2px;\">\n",
    "\n",
    "# Upsampling CARE model\n",
    "\n",
    "Load trained model (located in base directory `models` with name `my_model`) from disk.  \n",
    "The configuration was saved during training and is automatically loaded when `UpsamplingCARE` is initialized with `config=None`."
   ]
  },
  {
   "cell_type": "code",
   "execution_count": null,
   "metadata": {},
   "outputs": [],
   "source": [
    "model = UpsamplingCARE(config=None, name='my_model', basedir='models')"
   ]
  },
  {
   "cell_type": "markdown",
   "metadata": {},
   "source": [
    "## Apply CARE network to raw image\n",
    "\n",
    "Predict the restored image (image will be successively split into smaller tiles if there are memory issues).  \n",
    "We directly increase `n_tiles`, since this is a relatively large image stack.\n",
    "\n",
    "**Important:** You need to supply the subsampling factor, which must be the same as used during [training data generation](1_datagen.ipynb).\n",
    "\n",
    "**Note**: *Out of memory* problems during `model.predict` can also indicate that the GPU is used by another process. In particular, shut down the training notebook before running the prediction (you may need to restart this notebook)."
   ]
  },
  {
   "cell_type": "code",
   "execution_count": null,
   "metadata": {},
   "outputs": [],
   "source": [
    "%%time\n",
    "\n",
    "restored = model.predict(x, axes, subsample, n_tiles=(2,2,2))\n",
    "\n",
    "print('input  size =', x.shape)\n",
    "print('output size =', restored.shape)\n",
    "print()"
   ]
  },
  {
   "cell_type": "markdown",
   "metadata": {},
   "source": [
    "## Save reconstructed image\n",
    "\n",
    "Save the reconstructed image stack as a ImageJ-compatible TIFF image, i.e. the image can be opened in ImageJ/Fiji with correct axes semantics."
   ]
  },
  {
   "cell_type": "code",
   "execution_count": null,
   "metadata": {},
   "outputs": [],
   "source": [
    "Path('results').mkdir(exist_ok=True)\n",
    "save_tiff_imagej_compatible('results/%s_restored_stack_low_sub_4_03.tif' % model.name, restored, axes)"
   ]
  },
  {
   "cell_type": "markdown",
   "metadata": {},
   "source": [
    "<hr style=\"height:2px;\">\n",
    "\n",
    "# Upsampled (and denoised) image via CARE network"
   ]
  },
  {
   "cell_type": "code",
   "execution_count": null,
   "metadata": {},
   "outputs": [],
   "source": [
    "plt.figure(figsize=(12,12))\n",
    "plt.imshow(restored[subsample*20],cmap='magma')\n",
    "plt.title('XY slice')\n",
    "plt.axis('off')\n",
    "\n",
    "plt.figure(figsize=(12,12))\n",
    "plt.imshow(restored[...,20],cmap='magma')\n",
    "plt.title('ZY slice')\n",
    "plt.axis('off')\n",
    "None;"
   ]
  }
 ],
 "metadata": {
  "kernelspec": {
   "display_name": "Python 3",
   "language": "python",
   "name": "python3"
  },
  "language_info": {
   "codemirror_mode": {
    "name": "ipython",
    "version": 3
   },
   "file_extension": ".py",
   "mimetype": "text/x-python",
   "name": "python",
   "nbconvert_exporter": "python",
   "pygments_lexer": "ipython3",
   "version": "3.6.4"
  }
 },
 "nbformat": 4,
 "nbformat_minor": 2
}
